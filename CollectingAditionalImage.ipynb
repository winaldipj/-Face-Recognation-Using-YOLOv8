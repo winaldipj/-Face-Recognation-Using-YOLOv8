{
 "cells": [
  {
   "cell_type": "code",
   "execution_count": 1,
   "metadata": {},
   "outputs": [],
   "source": [
    "# Importing Library\n",
    "import os\n",
    "import time\n",
    "import cv2"
   ]
  },
  {
   "cell_type": "markdown",
   "metadata": {},
   "source": [
    "Adding My Foto"
   ]
  },
  {
   "cell_type": "code",
   "execution_count": 2,
   "metadata": {},
   "outputs": [],
   "source": [
    "new_label = ['Winaldi']\n",
    "nums_foto = 15"
   ]
  },
  {
   "cell_type": "code",
   "execution_count": 3,
   "metadata": {},
   "outputs": [],
   "source": [
    "Folder_Image_Path = 'D:/Source Code/Python/DeepLearning/CNN/ObJectDetection/Custom_Face_Detection_YOLOv8/datasets/custom_data/images'\n",
    "for label in new_label:\n",
    "    path = os.path.join(Folder_Image_Path, label)\n",
    "    if not os.path.exists(path):\n",
    "        os.mkdir(path)"
   ]
  },
  {
   "cell_type": "markdown",
   "metadata": {},
   "source": [
    "Capture The Foto"
   ]
  },
  {
   "cell_type": "code",
   "execution_count": 4,
   "metadata": {},
   "outputs": [
    {
     "name": "stdout",
     "output_type": "stream",
     "text": [
      "Collecting Foto Of The Folder = Winaldi\n",
      "Collecting Foto Number = 0\n",
      "Collecting Foto Number = 1\n",
      "Collecting Foto Number = 2\n",
      "Collecting Foto Number = 3\n",
      "Collecting Foto Number = 4\n",
      "Collecting Foto Number = 5\n",
      "Collecting Foto Number = 6\n",
      "Collecting Foto Number = 7\n",
      "Collecting Foto Number = 8\n",
      "Collecting Foto Number = 9\n",
      "Collecting Foto Number = 10\n",
      "Collecting Foto Number = 11\n",
      "Collecting Foto Number = 12\n",
      "Collecting Foto Number = 13\n",
      "Collecting Foto Number = 14\n"
     ]
    }
   ],
   "source": [
    "for label in new_label:\n",
    "    cap = cv2.VideoCapture(0)\n",
    "    print(f'Collecting Foto Of The Folder = {label}')\n",
    "    time.sleep(15)\n",
    "    for imgnum in range(nums_foto):\n",
    "        print(f'Collecting Foto Number = {imgnum}')\n",
    "        imgnumber = str(imgnum)\n",
    "        ret, frame = cap.read()\n",
    "        imgname = os.path.join(Folder_Image_Path, label, label+imgnumber+'.jpg')\n",
    "        cv2.imwrite(imgname, frame)\n",
    "        cv2.imshow('frame', frame)\n",
    "        time.sleep(3)\n",
    "\n",
    "cap.release()\n",
    "cv2.destroyAllWindows()"
   ]
  },
  {
   "cell_type": "markdown",
   "metadata": {},
   "source": [
    "Path The Image"
   ]
  },
  {
   "cell_type": "code",
   "execution_count": 5,
   "metadata": {},
   "outputs": [],
   "source": [
    "achieve_path = os.path.join('D:/Source Code/Python/DeepLearning/CNN/ObJectDetection/Custom_Face_Detection_YOLOv8/datasets/custom_data', 'images')"
   ]
  }
 ],
 "metadata": {
  "kernelspec": {
   "display_name": "Python 3",
   "language": "python",
   "name": "python3"
  },
  "language_info": {
   "codemirror_mode": {
    "name": "ipython",
    "version": 3
   },
   "file_extension": ".py",
   "mimetype": "text/x-python",
   "name": "python",
   "nbconvert_exporter": "python",
   "pygments_lexer": "ipython3",
   "version": "3.11.4"
  }
 },
 "nbformat": 4,
 "nbformat_minor": 2
}
